{
 "cells": [
  {
   "cell_type": "markdown",
   "metadata": {},
   "source": [
    "# Kata 5"
   ]
  },
  {
   "cell_type": "code",
   "execution_count": 5,
   "metadata": {},
   "outputs": [
    {
     "name": "stdout",
     "output_type": "stream",
     "text": [
      "628949330\n",
      "390577533.93\n"
     ]
    }
   ],
   "source": [
    "Tierra=  149597870 \n",
    "Júpiter= 778547200\n",
    "distacia_Km= Júpiter - Tierra\n",
    "print(distacia_Km)\n",
    "distacia_mi = distacia_Km * 0.621\n",
    "print(distacia_mi)\n"
   ]
  },
  {
   "cell_type": "code",
   "execution_count": 2,
   "metadata": {},
   "outputs": [
    {
     "name": "stdout",
     "output_type": "stream",
     "text": [
      "20\n",
      "12.42\n"
     ]
    }
   ],
   "source": [
    "Primer_planeta = input(\"Dame el valor del primer planeta en km\")\n",
    "Segundo_planeta = input(\"Dame le valor del segundo planteta en km\")\n",
    "Primer_planeta = int(Primer_planeta)\n",
    "Segundo_planeta = int(Segundo_planeta)\n",
    "distancia_km1 = Segundo_planeta - Primer_planeta\n",
    "print(distancia_km1)\n",
    "distancia_mi1 = distancia_km1 * 0.621\n",
    "print(distancia_mi1)"
   ]
  }
 ],
 "metadata": {
  "interpreter": {
   "hash": "714cf1ccfd612524930dc2d1cb0fc25aa77201281d63b306d248fbc480287cdf"
  },
  "kernelspec": {
   "display_name": "Python 3.10.2 64-bit",
   "language": "python",
   "name": "python3"
  },
  "language_info": {
   "codemirror_mode": {
    "name": "ipython",
    "version": 3
   },
   "file_extension": ".py",
   "mimetype": "text/x-python",
   "name": "python",
   "nbconvert_exporter": "python",
   "pygments_lexer": "ipython3",
   "version": "3.10.2"
  },
  "orig_nbformat": 4
 },
 "nbformat": 4,
 "nbformat_minor": 2
}
