{
 "cells": [
  {
   "cell_type": "code",
   "execution_count": 6,
   "metadata": {},
   "outputs": [],
   "source": [
    "from datetime import date"
   ]
  },
  {
   "cell_type": "code",
   "execution_count": 10,
   "metadata": {},
   "outputs": [
    {
     "name": "stdout",
     "output_type": "stream",
     "text": [
      "Oficial superior>Cadete! \n",
      "Cadete>Si señor!\n",
      "Oficial superior>Puedes construir un programa que me muestre la fecha? La computadora del barco no venía con mucho en términos de programas de utilidad por lo que necesitamos crear los que necesitamos. ¿Puedo confiar en ti con esto\n",
      "Cadete>Considerelo hecho\n",
      "Oficial superior> Excelente\n"
     ]
    }
   ],
   "source": [
    "print(\"Oficial superior>Cadete! \")\n",
    "print(\"Cadete>Si señor!\")\n",
    "print(\"Oficial superior>Puedes construir un programa que me muestre la fecha? La computadora del barco no venía con mucho en términos de programas de utilidad por lo que necesitamos crear los que necesitamos. ¿Puedo confiar en ti con esto\")\n",
    "print(\"Cadete>Considerelo hecho\")\n",
    "print(\"Oficial superior> Excelente\")"
   ]
  },
  {
   "cell_type": "markdown",
   "metadata": {},
   "source": [
    "Fecha"
   ]
  },
  {
   "cell_type": "code",
   "execution_count": 11,
   "metadata": {},
   "outputs": [
    {
     "name": "stdout",
     "output_type": "stream",
     "text": [
      "Today's date is: 2022-02-16\n"
     ]
    }
   ],
   "source": [
    "print(\"Today's date is: \" + str(date.today()))"
   ]
  },
  {
   "cell_type": "code",
   "execution_count": 12,
   "metadata": {},
   "outputs": [
    {
     "name": "stdout",
     "output_type": "stream",
     "text": [
      "El oficial superior> Necesito una cosa más: un programa de conversión entre parsecs y años luz. Tener un programa de este tipo podría ser realmente útil en el puente para trazar nuestro curso\n",
      "Cadete>Lo hare\n"
     ]
    }
   ],
   "source": [
    "print(\"El oficial superior> Necesito una cosa más: un programa de conversión entre parsecs y años luz. Tener un programa de este tipo podría ser realmente útil en el puente para trazar nuestro curso\")\n",
    "print(\"Cadete>Lo hare\")"
   ]
  },
  {
   "cell_type": "code",
   "execution_count": 13,
   "metadata": {},
   "outputs": [
    {
     "name": "stdout",
     "output_type": "stream",
     "text": [
      "11 parsec, is 35.877159999999996 lightyears\n"
     ]
    }
   ],
   "source": [
    "parsec = 11\n",
    "\n",
    "lightyears =  3.26156 * parsec\n",
    "\n",
    "print(str(parsec) + \" parsec, is \" + str(lightyears) + \" lightyears\")"
   ]
  }
 ],
 "metadata": {
  "interpreter": {
   "hash": "714cf1ccfd612524930dc2d1cb0fc25aa77201281d63b306d248fbc480287cdf"
  },
  "kernelspec": {
   "display_name": "Python 3.10.2 64-bit",
   "language": "python",
   "name": "python3"
  },
  "language_info": {
   "codemirror_mode": {
    "name": "ipython",
    "version": 3
   },
   "file_extension": ".py",
   "mimetype": "text/x-python",
   "name": "python",
   "nbconvert_exporter": "python",
   "pygments_lexer": "ipython3",
   "version": "3.10.2"
  },
  "orig_nbformat": 4
 },
 "nbformat": 4,
 "nbformat_minor": 2
}
