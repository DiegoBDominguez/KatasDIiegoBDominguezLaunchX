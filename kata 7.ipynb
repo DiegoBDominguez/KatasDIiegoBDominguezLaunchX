{
 "cells": [
  {
   "cell_type": "markdown",
   "metadata": {},
   "source": [
    "# Kata 7\n"
   ]
  },
  {
   "cell_type": "code",
   "execution_count": 9,
   "metadata": {},
   "outputs": [],
   "source": [
    "planetas_nuevos = ''\n",
    "planetas = []\n",
    "#\n",
    "while planetas_nuevos.lower() != 'terminar':\n",
    "    if planetas_nuevos:\n",
    "        planetas.append(planetas_nuevos)\n",
    "    planetas_nuevos = input('Enter a new planet ')"
   ]
  },
  {
   "cell_type": "code",
   "execution_count": 10,
   "metadata": {},
   "outputs": [
    {
     "name": "stdout",
     "output_type": "stream",
     "text": [
      "Jupiter\n",
      "saturno\n",
      "urano\n",
      "neptunp\n"
     ]
    }
   ],
   "source": [
    "for planet in planetas:\n",
    "    print(planet)"
   ]
  }
 ],
 "metadata": {
  "interpreter": {
   "hash": "714cf1ccfd612524930dc2d1cb0fc25aa77201281d63b306d248fbc480287cdf"
  },
  "kernelspec": {
   "display_name": "Python 3.10.2 64-bit",
   "language": "python",
   "name": "python3"
  },
  "language_info": {
   "codemirror_mode": {
    "name": "ipython",
    "version": 3
   },
   "file_extension": ".py",
   "mimetype": "text/x-python",
   "name": "python",
   "nbconvert_exporter": "python",
   "pygments_lexer": "ipython3",
   "version": "3.10.2"
  },
  "orig_nbformat": 4
 },
 "nbformat": 4,
 "nbformat_minor": 2
}
